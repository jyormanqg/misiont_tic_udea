{
  "nbformat": 4,
  "nbformat_minor": 0,
  "metadata": {
    "colab": {
      "provenance": []
    },
    "kernelspec": {
      "name": "python3",
      "display_name": "Python 3"
    },
    "language_info": {
      "name": "python"
    }
  },
  "cells": [
    {
      "cell_type": "markdown",
      "source": [
        "### Ciclo For\n",
        "Se caracteriza principalmente porque a priori sabemos la cantidad de interacciones que vamos a realizar.\n",
        "\n",
        "### Ciclo While\n",
        "Este ciclo puede ser infinito, sin embargo, se va a ejecutar hasta que se cumpla o no una condición."
      ],
      "metadata": {
        "id": "FMqvFXgxE5qP"
      }
    },
    {
      "cell_type": "code",
      "source": [
        "for num in range(1, 11, 1):\n",
        "  print(num)"
      ],
      "metadata": {
        "colab": {
          "base_uri": "https://localhost:8080/"
        },
        "id": "00ne7MMpFLp0",
        "outputId": "169d0fc9-86eb-4c65-c837-bf90281addd9"
      },
      "execution_count": 1,
      "outputs": [
        {
          "output_type": "stream",
          "name": "stdout",
          "text": [
            "1\n",
            "2\n",
            "3\n",
            "4\n",
            "5\n",
            "6\n",
            "7\n",
            "8\n",
            "9\n",
            "10\n"
          ]
        }
      ]
    },
    {
      "cell_type": "code",
      "source": [
        "for num in range(0, 10, 1):\n",
        "  print(num + 1)"
      ],
      "metadata": {
        "colab": {
          "base_uri": "https://localhost:8080/"
        },
        "id": "fsvW5doUGYEL",
        "outputId": "d95bb217-93ea-4702-c2a2-8c5c0e7c2412"
      },
      "execution_count": 2,
      "outputs": [
        {
          "output_type": "stream",
          "name": "stdout",
          "text": [
            "1\n",
            "2\n",
            "3\n",
            "4\n",
            "5\n",
            "6\n",
            "7\n",
            "8\n",
            "9\n",
            "10\n"
          ]
        }
      ]
    },
    {
      "cell_type": "code",
      "source": [
        "for num in range(1, 11, 1):\n",
        "  print(num, end = '*')"
      ],
      "metadata": {
        "colab": {
          "base_uri": "https://localhost:8080/"
        },
        "id": "6xMy9leCG0Lz",
        "outputId": "8626d6b1-e264-485a-f496-51e63968df5b"
      },
      "execution_count": 3,
      "outputs": [
        {
          "output_type": "stream",
          "name": "stdout",
          "text": [
            "1*2*3*4*5*6*7*8*9*10*"
          ]
        }
      ]
    },
    {
      "cell_type": "markdown",
      "source": [
        "## While"
      ],
      "metadata": {
        "id": "2b4hGGTJHdLw"
      }
    },
    {
      "cell_type": "code",
      "source": [
        "minutos = 0\n",
        "\n",
        "while minutos <= 4:\n",
        "  print(\"Estudiar!!!\")\n",
        "  minutos = minutos + 1\n",
        "\n",
        "print(f\"Se alcanzó el minuto {minutos}, y ya nos vamos pa la casa\")"
      ],
      "metadata": {
        "colab": {
          "base_uri": "https://localhost:8080/"
        },
        "id": "GOcNllBDGdym",
        "outputId": "5c454516-3381-46fc-c2a0-9b68c4308bc7"
      },
      "execution_count": 7,
      "outputs": [
        {
          "output_type": "stream",
          "name": "stdout",
          "text": [
            "Estudiar!!!\n",
            "Estudiar!!!\n",
            "Estudiar!!!\n",
            "Estudiar!!!\n",
            "Estudiar!!!\n",
            "Se alcanzó el minuto 5, y ya nos vamos pa la casa\n"
          ]
        }
      ]
    },
    {
      "cell_type": "code",
      "source": [
        "numero_adivinar = 10\n",
        "numero_usuario = -1\n",
        "\n",
        "while numero_adivinar != numero_usuario:\n",
        "  numero_usuario = int(input(\"Ingrese un numero para tratar de adivinar: \"))\n",
        "  if numero_usuario == numero_adivinar:\n",
        "    print(\"Feliciationes! Adivinaste el número ganador\")\n",
        "  else:\n",
        "    print(\"Sigue intentando.\")\n",
        "\n",
        "\n",
        "num1 = 2\n",
        "num2 = 10\n",
        "print(num1 + num2)"
      ],
      "metadata": {
        "colab": {
          "base_uri": "https://localhost:8080/"
        },
        "id": "0RNnpYZwINfj",
        "outputId": "0768af09-47f1-4ea7-be87-a3c3a7197f87"
      },
      "execution_count": 11,
      "outputs": [
        {
          "output_type": "stream",
          "name": "stdout",
          "text": [
            "Ingrese un numero para tratar de adivinar: 5\n",
            "Sigue intentando.\n",
            "Ingrese un numero para tratar de adivinar: 5\n",
            "Sigue intentando.\n",
            "Ingrese un numero para tratar de adivinar: 5\n",
            "Sigue intentando.\n",
            "Ingrese un numero para tratar de adivinar: 4\n",
            "Sigue intentando.\n",
            "Ingrese un numero para tratar de adivinar: 1\n",
            "Sigue intentando.\n",
            "Ingrese un numero para tratar de adivinar: 10\n",
            "Feliciationes! Adivinaste el número ganador\n",
            "12\n"
          ]
        }
      ]
    },
    {
      "cell_type": "code",
      "source": [
        "numero_adivinar      = 50\n",
        "numero_usuario       = -1\n",
        "numero_intentos_max  = 5\n",
        "numero_intentos_user = 0\n",
        "\n",
        "while numero_adivinar != numero_usuario:\n",
        "  numero_usuario = int(input(\"Ingrese un numero para tratar de adivinar: \"))\n",
        "  if numero_usuario == numero_adivinar:\n",
        "    print(\"Feliciationes! Adivinaste el número ganador\")\n",
        "    break\n",
        "  else:\n",
        "    print(\"Sigue intentando.\")\n",
        "\n",
        "  numero_intentos_user += 1 # Toma el valor de la variable numero intentos y le suma 1\n",
        "  if numero_intentos_user == numero_intentos_max:\n",
        "    print(\"Se te acabaron los intentos! Vuelve manana\")\n",
        "    break\n",
        "\n",
        "\n",
        "print(\"Continuacion despues del ciclo While\")"
      ],
      "metadata": {
        "colab": {
          "base_uri": "https://localhost:8080/"
        },
        "id": "uYvEfi8XJul6",
        "outputId": "2cbeb1e3-6017-4641-8bf1-3e7a41c74a9d"
      },
      "execution_count": 21,
      "outputs": [
        {
          "output_type": "stream",
          "name": "stdout",
          "text": [
            "Ingrese un numero para tratar de adivinar: 1\n",
            "Sigue intentando.\n",
            "Ingrese un numero para tratar de adivinar: 2\n",
            "Sigue intentando.\n",
            "Ingrese un numero para tratar de adivinar: 50\n",
            "Feliciationes! Adivinaste el número ganador\n",
            "Continuacion despues del ciclo While\n"
          ]
        }
      ]
    },
    {
      "cell_type": "markdown",
      "source": [
        "### Reto 1 - 1\n",
        "Usted y un grupo de amigos ha decidio realizar una rifa de 1'000.000 de pesos para recaudar fondos en pro de los habitantes de calle del municipio en el que usted habita.\n",
        "\n",
        "Cada participante debe adivinar un número entre 0 y b (incluidos, b y n son los mismos para todos los concursantes)\n",
        "Cada concursante va ingresando números entre 0 y b, y mientras no haya acertado, el sistema debe decidir si el número ingresado esta por encima o por debajo del que debe adivinar.\n",
        "Una vez el concursante haya adivinado, el sistema deberá imprimir a los cuantos intentos el participante logró adivinar el numero, y sera el jurado el encargado de dar como ganador, a quien hay adivinado en menos intentos."
      ],
      "metadata": {
        "id": "RvYK4VkQRJxW"
      }
    },
    {
      "cell_type": "code",
      "source": [
        "# Declaración de variables\n",
        "min_num         = 0\n",
        "max_num         = 15\n",
        "numero_adivinar = 7\n",
        "numero_usuario  = 0 # Para garantizar que se ingrese almenos una vez al ciclo while\n",
        "numero_intentos = 0\n",
        "\n",
        "while numero_usuario != numero_adivinar:\n",
        "  numero_usuario = int(input(\"Ingrese un número: \"))\n",
        "  if (numero_usuario >= min_num) and (numero_usuario <= max_num):\n",
        "    numero_intentos += 1\n",
        "\n",
        "    if numero_usuario == numero_adivinar:\n",
        "      print(f\"Felicitaciones, adivinaste en {numero_intentos}\")\n",
        "      break\n",
        "\n",
        "    elif numero_usuario > numero_adivinar:\n",
        "      print(\"Esta por encima del número a adivinar\")\n",
        "\n",
        "    elif numero_usuario < numero_adivinar:\n",
        "      print(\"Esta por debajo del número a adivinar\")\n",
        "\n",
        "  else:\n",
        "      print(\"El número ingresado esta por fuera del rango!\")"
      ],
      "metadata": {
        "colab": {
          "base_uri": "https://localhost:8080/"
        },
        "id": "qnYJQjUeNcj4",
        "outputId": "a2c7bbbc-d613-473b-f767-8617212c3ff5"
      },
      "execution_count": 27,
      "outputs": [
        {
          "output_type": "stream",
          "name": "stdout",
          "text": [
            "Ingrese un número: 100\n",
            "Esta por encima del número a adivinar\n",
            "Ingrese un número: 7\n",
            "Felicitaciones, adivinaste en 2\n"
          ]
        }
      ]
    },
    {
      "cell_type": "markdown",
      "source": [
        "## Reto 1 - 2\n",
        "Usted ha sido contratado por la tienda de su barrio para hacer una calculadora que le facilitará llevar al tendero la cuenta de una compra.\n",
        "\n",
        "- El programa le solicita al tendero cuál es el valor unitario de un producto que lleva el cliente (Sin IVA incluido).\n",
        "- El programa le pregunta al tendero si el producto tiene IVA.\n",
        "- El programa le solicita al tendero cuál es la cantidad que lleva el cliente de ese producto.\n",
        "- Mostrar el total de la compra"
      ],
      "metadata": {
        "id": "SM-udm1HXaYE"
      }
    },
    {
      "cell_type": "code",
      "source": [
        "iva            = 0.19\n",
        "total          = 0\n",
        "ingresar_prod  = True\n",
        "\n",
        "while ingresar_prod:\n",
        "  ingresar_prod = bool(int(input(\"Desea comprar algo más? \")))\n",
        "  if ingresar_prod == False:\n",
        "    print(\"Saliendo de la tienda\")\n",
        "    break\n",
        "    \n",
        "  else:\n",
        "    valor_unitario = int(input(\"Ingrese el valor unitario del producto: \"))\n",
        "    tiene_iva      = input(\"El producto tiene IVA (S/N)? \")\n",
        "    cantidad_prod  = int(input(\"Ingrese la cantidad a llevar: \"))\n",
        "    if tiene_iva == 'S':\n",
        "      total += ((valor_unitario) * iva + valor_unitario) * cantidad_prod\n",
        "\n",
        "    else:\n",
        "      total += (valor_unitario * cantidad_prod)\n",
        "\n",
        "    print(f\"El total a pagar es: {total:,}\")"
      ],
      "metadata": {
        "colab": {
          "base_uri": "https://localhost:8080/"
        },
        "id": "ABZsHDPLOWF4",
        "outputId": "c8142539-bb2a-452b-feb6-79a1cd9b0eda"
      },
      "execution_count": 40,
      "outputs": [
        {
          "output_type": "stream",
          "name": "stdout",
          "text": [
            "Desea comprar algo más? 0\n",
            "False\n",
            "Saliendo de la tienda\n"
          ]
        }
      ]
    },
    {
      "cell_type": "code",
      "source": [
        "condicion = \"S\"\n",
        "valor_total = 0\n",
        "while condicion == \"S\": \n",
        "    subtotal = float(input(\"Ingrese valor unitario: \"))\n",
        "    IVA = input(\"¿Elproducto cuenta con IVA?:  \")\n",
        "    cantidad = int(input(\"Ingrese la cantidad que lleva el cliente del producto a registrar: \" ))\n",
        "    if IVA == \"S\":\n",
        "        IVAcalculado = subtotal * cantidad * 0.19\n",
        "        valor_total = (subtotal*cantidad) + IVAcalculado + valor_total\n",
        "        print(\"IVA incluido\")\n",
        "    else: \n",
        "      sinIVA = subtotal * cantidad \n",
        "      valor_total = sinIVA + valor_total\n",
        "      print(\"PRODUCTO SIN IVA\")\n",
        "    print(\"SUBTOTAL\", valor_total)\n",
        "    condicion = input(\"¿Faltan Productos Por Cobrar? S/N:  \")\n",
        "\n",
        "print(\"TOTAL A COBRAR: \", valor_total)"
      ],
      "metadata": {
        "colab": {
          "base_uri": "https://localhost:8080/"
        },
        "id": "3vI1VPhDY48d",
        "outputId": "7b0dacc1-a0b5-45f4-e0ba-6b0a599964dc"
      },
      "execution_count": 41,
      "outputs": [
        {
          "output_type": "stream",
          "name": "stdout",
          "text": [
            "Ingrese valor unitario: 10\n",
            "¿Elproducto cuenta con IVA?:  S\n",
            "Ingrese la cantidad que lleva el cliente del producto a registrar: 10\n",
            "IVA incluido\n",
            "SUBTOTAL 119.0\n",
            "¿Faltan Productos Por Cobrar? S/N:  N\n",
            "TOTAL A COBRAR:  119.0\n"
          ]
        }
      ]
    },
    {
      "cell_type": "code",
      "source": [],
      "metadata": {
        "id": "sb7TvMmQaoco"
      },
      "execution_count": null,
      "outputs": []
    }
  ]
}